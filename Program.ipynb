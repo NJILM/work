{
 "cells": [
  {
   "cell_type": "code",
   "execution_count": 25,
   "metadata": {},
   "outputs": [
    {
     "name": "stdout",
     "output_type": "stream",
     "text": [
      "['12345', '12543', '54321']\n",
      "['12345', '12354', '12543', '15432', '54321']\n",
      "['12354', '15432']\n"
     ]
    }
   ],
   "source": [
    "#imports for function...\n",
    "\n",
    "def Mik_function(doc):\n",
    "    with open(doc, 'r') as txt:\n",
    "         txt_num=txt.read()\n",
    "    return txt_num\n",
    "            \n",
    "dic={'12345': 1, '12354': 2, '12543': 3, '15432': 4, '54321': 5}\n",
    "\n",
    "link=['1.txt', '2.txt', '3.txt']\n",
    "\n",
    "data=[]\n",
    "for item in link:\n",
    "    data.append(Mik_function(item))\n",
    "print(data)\n",
    "    \n",
    "keys=[]\n",
    "\n",
    "for key in dic:\n",
    "\tkeys.append(key)\n",
    "print(keys)\n",
    "\n",
    "for item in data:\n",
    "    keys.remove(item)\n",
    "print(keys)\n",
    "\n",
    "for item in keys:\n",
    "\tback.append(dic[item])\n",
    "#print(back)"
   ]
  }
 ],
 "metadata": {
  "kernelspec": {
   "display_name": "Python 3",
   "language": "python",
   "name": "python3"
  },
  "language_info": {
   "codemirror_mode": {
    "name": "ipython",
    "version": 3
   },
   "file_extension": ".py",
   "mimetype": "text/x-python",
   "name": "python",
   "nbconvert_exporter": "python",
   "pygments_lexer": "ipython3",
   "version": "3.7.3"
  }
 },
 "nbformat": 4,
 "nbformat_minor": 2
}
